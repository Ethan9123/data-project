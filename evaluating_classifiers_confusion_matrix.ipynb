{
  "nbformat": 4,
  "nbformat_minor": 0,
  "metadata": {
    "colab": {
      "name": "evaluating-classifiers-confusion-matrix.ipynb",
      "version": "0.3.2",
      "provenance": [],
      "include_colab_link": true
    },
    "language_info": {
      "codemirror_mode": {
        "name": "ipython",
        "version": 3
      },
      "file_extension": ".py",
      "mimetype": "text/x-python",
      "name": "python",
      "nbconvert_exporter": "python",
      "pygments_lexer": "ipython3",
      "version": "3.6.2"
    },
    "kernelspec": {
      "display_name": "Python 3",
      "language": "python",
      "name": "python3"
    }
  },
  "cells": [
    {
      "cell_type": "markdown",
      "metadata": {
        "id": "view-in-github",
        "colab_type": "text"
      },
      "source": [
        "<a href=\"https://colab.research.google.com/github/Ethan9123/data-project/blob/master/evaluating_classifiers_confusion_matrix.ipynb\" target=\"_parent\"><img src=\"https://colab.research.google.com/assets/colab-badge.svg\" alt=\"Open In Colab\"/></a>"
      ]
    },
    {
      "metadata": {
        "id": "JgPDm7EgT_TK",
        "colab_type": "text"
      },
      "cell_type": "markdown",
      "source": [
        "<img src=\"http://imgur.com/1ZcRyrc.png\" style=\"float: left; margin: 20px; height: 55px\">\n",
        "\n",
        "# Evaluating Classifiers: The Confusion Matrix and AUC-ROC\n",
        "\n",
        "_Authors: Kiefer Katovich (SF), Joseph Nelson (DC)_\n",
        "\n",
        "---\n",
        "\n",
        "### Learning Objectives\n",
        "\n",
        "- Understand true positives, false positives, true negatives, and false negatives.\n",
        "- Define a confusion matrix and how to apply it.\n",
        "- Calculate the most common classification evaluation metrics.\n",
        "- Understand what the F1 score represents and how to calculate it.\n",
        "- Learn when it's advantageous to change the threshold for prediction for a classification model.\n",
        "- Manually change the threshold for prediction on the cancer data set and observe the results.\n",
        "- Understand receiver operating characteristic (ROC) curves and why they're useful.\n",
        "- Learn to plot an ROC curve."
      ]
    },
    {
      "metadata": {
        "id": "ABtmICJ1T_TL",
        "colab_type": "text"
      },
      "cell_type": "markdown",
      "source": [
        "### Lesson Guide\n",
        "- [Introduction: Evaluating Classifiers](#intro)\n",
        "- [The Baseline Accuracy](#baseline)\n",
        "- [Build a KNN Model to Predict Spam](#knn)\n",
        "- [Predicting Labels vs. Predicting Probabilities](#labels-vs-probs)\n",
        "- [The Confusion Matrix](#confusion-matrix)\n",
        "- [Review: Type I Error and P Values](#type1-pvalues)\n",
        "- [Type II Error and Power](#type2-power)\n",
        "- [Fundamental Classifier Metrics](#metrics)\n",
        "    - [Accuracy](#accuracy)\n",
        "    - [Sensitivity/Recall/True Positive Rate (TPR)](#sensitivity)\n",
        "    - [False Positive Rate (FPR)](#fpr)\n",
        "    - [Specificity/True Negative Rate (TNR)](#specificity)\n",
        "    - [Precision/Positive Predictive Value](#precision)\n",
        "- [The F1 Score and Scikit-Learn's `Classification_Report`](#f1-score)\n",
        "- [Changing the Threshold for Prediction](#threshold)\n",
        "    - [Load the UCI Breast Cancer Data](#uci)\n",
        "    - [Evaluate Prediction on a Test Set](#testing)\n",
        "- [The ROC Curve](#roc-curve)\n",
        "- [Reference Table of Common Classification Metric Terms and Definitions](#table)\n",
        "- [Additional Resources](#resources)\n"
      ]
    },
    {
      "metadata": {
        "id": "kG_GDQ6pT_TM",
        "colab_type": "code",
        "colab": {}
      },
      "cell_type": "code",
      "source": [
        "import numpy as np\n",
        "import seaborn as sns\n",
        "import pandas as pd\n",
        "\n",
        "import matplotlib\n",
        "import matplotlib.pyplot as plt\n",
        "\n",
        "%config InlineBackend.figure_format = 'retina'\n",
        "%matplotlib inline\n",
        "\n",
        "plt.style.use('fivethirtyeight')"
      ],
      "execution_count": 0,
      "outputs": []
    },
    {
      "metadata": {
        "id": "Pvh8SpG3T_TO",
        "colab_type": "text"
      },
      "cell_type": "markdown",
      "source": [
        "<a id='intro'></a>\n",
        "\n",
        "## Introduction: Evaluating Classifiers\n",
        "\n",
        "---\n",
        "In this lesson, we'll cover the fundamentals of evaluating classifiers. It is important to note that the evaluation of classifier models is more complex than that of regression models.\n",
        "\n",
        "To ground the theory in a real-world example, we will use a spam data set on which to build and evaluate classifiers. The spam data set is 1,001 columns wide, containing an `is_spam` binary marker signifying whether or not a given email is spam. That data set also contains an additional 1,000 columns, each corresponding to a word that could have appeared in the email (also marked with 0 or 1).\n",
        "\n",
        "**Load the spam data below and print out the header.**"
      ]
    },
    {
      "metadata": {
        "id": "_H7MQtmMT_TP",
        "colab_type": "code",
        "colab": {}
      },
      "cell_type": "code",
      "source": [
        "spam = pd.read_csv('./datasets/spam_words_wide.csv')"
      ],
      "execution_count": 0,
      "outputs": []
    },
    {
      "metadata": {
        "id": "b2p8BDwFT_TR",
        "colab_type": "code",
        "colab": {},
        "outputId": "44a0bcda-7c89-4d4d-e4ae-b4d1208a44f0"
      },
      "cell_type": "code",
      "source": [
        "spam.head()"
      ],
      "execution_count": 0,
      "outputs": [
        {
          "output_type": "execute_result",
          "data": {
            "text/html": [
              "<div>\n",
              "<table border=\"1\" class=\"dataframe\">\n",
              "  <thead>\n",
              "    <tr style=\"text-align: right;\">\n",
              "      <th></th>\n",
              "      <th>is_spam</th>\n",
              "      <th>getzed</th>\n",
              "      <th>86021</th>\n",
              "      <th>babies</th>\n",
              "      <th>sunoco</th>\n",
              "      <th>ultimately</th>\n",
              "      <th>thk</th>\n",
              "      <th>voted</th>\n",
              "      <th>spatula</th>\n",
              "      <th>fiend</th>\n",
              "      <th>...</th>\n",
              "      <th>itna</th>\n",
              "      <th>borin</th>\n",
              "      <th>thoughts</th>\n",
              "      <th>iccha</th>\n",
              "      <th>videochat</th>\n",
              "      <th>freefone</th>\n",
              "      <th>pist</th>\n",
              "      <th>reformat</th>\n",
              "      <th>strict</th>\n",
              "      <th>69698</th>\n",
              "    </tr>\n",
              "  </thead>\n",
              "  <tbody>\n",
              "    <tr>\n",
              "      <th>0</th>\n",
              "      <td>0</td>\n",
              "      <td>0</td>\n",
              "      <td>0</td>\n",
              "      <td>0</td>\n",
              "      <td>0</td>\n",
              "      <td>0</td>\n",
              "      <td>0</td>\n",
              "      <td>0</td>\n",
              "      <td>0</td>\n",
              "      <td>0</td>\n",
              "      <td>...</td>\n",
              "      <td>0</td>\n",
              "      <td>0</td>\n",
              "      <td>0</td>\n",
              "      <td>0</td>\n",
              "      <td>0</td>\n",
              "      <td>0</td>\n",
              "      <td>0</td>\n",
              "      <td>0</td>\n",
              "      <td>0</td>\n",
              "      <td>0</td>\n",
              "    </tr>\n",
              "    <tr>\n",
              "      <th>1</th>\n",
              "      <td>0</td>\n",
              "      <td>0</td>\n",
              "      <td>0</td>\n",
              "      <td>0</td>\n",
              "      <td>0</td>\n",
              "      <td>0</td>\n",
              "      <td>0</td>\n",
              "      <td>0</td>\n",
              "      <td>0</td>\n",
              "      <td>0</td>\n",
              "      <td>...</td>\n",
              "      <td>0</td>\n",
              "      <td>0</td>\n",
              "      <td>0</td>\n",
              "      <td>0</td>\n",
              "      <td>0</td>\n",
              "      <td>0</td>\n",
              "      <td>0</td>\n",
              "      <td>0</td>\n",
              "      <td>0</td>\n",
              "      <td>0</td>\n",
              "    </tr>\n",
              "    <tr>\n",
              "      <th>2</th>\n",
              "      <td>1</td>\n",
              "      <td>0</td>\n",
              "      <td>0</td>\n",
              "      <td>0</td>\n",
              "      <td>0</td>\n",
              "      <td>0</td>\n",
              "      <td>0</td>\n",
              "      <td>0</td>\n",
              "      <td>0</td>\n",
              "      <td>0</td>\n",
              "      <td>...</td>\n",
              "      <td>0</td>\n",
              "      <td>0</td>\n",
              "      <td>0</td>\n",
              "      <td>0</td>\n",
              "      <td>0</td>\n",
              "      <td>0</td>\n",
              "      <td>0</td>\n",
              "      <td>0</td>\n",
              "      <td>0</td>\n",
              "      <td>0</td>\n",
              "    </tr>\n",
              "    <tr>\n",
              "      <th>3</th>\n",
              "      <td>0</td>\n",
              "      <td>0</td>\n",
              "      <td>0</td>\n",
              "      <td>0</td>\n",
              "      <td>0</td>\n",
              "      <td>0</td>\n",
              "      <td>0</td>\n",
              "      <td>0</td>\n",
              "      <td>0</td>\n",
              "      <td>0</td>\n",
              "      <td>...</td>\n",
              "      <td>0</td>\n",
              "      <td>0</td>\n",
              "      <td>0</td>\n",
              "      <td>0</td>\n",
              "      <td>0</td>\n",
              "      <td>0</td>\n",
              "      <td>0</td>\n",
              "      <td>0</td>\n",
              "      <td>0</td>\n",
              "      <td>0</td>\n",
              "    </tr>\n",
              "    <tr>\n",
              "      <th>4</th>\n",
              "      <td>0</td>\n",
              "      <td>0</td>\n",
              "      <td>0</td>\n",
              "      <td>0</td>\n",
              "      <td>0</td>\n",
              "      <td>0</td>\n",
              "      <td>0</td>\n",
              "      <td>0</td>\n",
              "      <td>0</td>\n",
              "      <td>0</td>\n",
              "      <td>...</td>\n",
              "      <td>0</td>\n",
              "      <td>0</td>\n",
              "      <td>0</td>\n",
              "      <td>0</td>\n",
              "      <td>0</td>\n",
              "      <td>0</td>\n",
              "      <td>0</td>\n",
              "      <td>0</td>\n",
              "      <td>0</td>\n",
              "      <td>0</td>\n",
              "    </tr>\n",
              "  </tbody>\n",
              "</table>\n",
              "<p>5 rows × 1001 columns</p>\n",
              "</div>"
            ],
            "text/plain": [
              "   is_spam  getzed  86021  babies  sunoco  ultimately  thk  voted  spatula  \\\n",
              "0        0       0      0       0       0           0    0      0        0   \n",
              "1        0       0      0       0       0           0    0      0        0   \n",
              "2        1       0      0       0       0           0    0      0        0   \n",
              "3        0       0      0       0       0           0    0      0        0   \n",
              "4        0       0      0       0       0           0    0      0        0   \n",
              "\n",
              "   fiend  ...    itna  borin  thoughts  iccha  videochat  freefone  pist  \\\n",
              "0      0  ...       0      0         0      0          0         0     0   \n",
              "1      0  ...       0      0         0      0          0         0     0   \n",
              "2      0  ...       0      0         0      0          0         0     0   \n",
              "3      0  ...       0      0         0      0          0         0     0   \n",
              "4      0  ...       0      0         0      0          0         0     0   \n",
              "\n",
              "   reformat  strict  69698  \n",
              "0         0       0      0  \n",
              "1         0       0      0  \n",
              "2         0       0      0  \n",
              "3         0       0      0  \n",
              "4         0       0      0  \n",
              "\n",
              "[5 rows x 1001 columns]"
            ]
          },
          "metadata": {
            "tags": []
          },
          "execution_count": 3
        }
      ]
    },
    {
      "metadata": {
        "id": "lBRZtZlQT_TW",
        "colab_type": "code",
        "colab": {},
        "outputId": "91f14b0e-3f9e-490b-f065-daa928c3a856"
      },
      "cell_type": "code",
      "source": [
        "print(spam.shape, spam.is_spam.mean())"
      ],
      "execution_count": 0,
      "outputs": [
        {
          "output_type": "stream",
          "text": [
            "(5572, 1001) 0.134063173008\n"
          ],
          "name": "stdout"
        }
      ]
    },
    {
      "metadata": {
        "id": "-QroU9esT_Ta",
        "colab_type": "text"
      },
      "cell_type": "markdown",
      "source": [
        "### Consider these scenarios:\n",
        "\n",
        "** Case 1:  You have %95 non-spam. **\n",
        "Model accuracy is %94\n",
        "\n",
        "\n",
        "** Case 2:  You have %50 spam. **\n",
        "Model accuracy is %70\n",
        "\n",
        "\n",
        "** Case 3:  You have %90 spam. **\n",
        "Model accuracy is %88\n",
        "\n",
        "**Which one is the best? Follow up: Why?**\n",
        "\n",
        "\n",
        "> /poll \"Between cases 1, 2, and 3, which is the best model based on accuracy?  Why?\n"
      ]
    },
    {
      "metadata": {
        "id": "Xb2aG8eCT_Tb",
        "colab_type": "text"
      },
      "cell_type": "markdown",
      "source": [
        "<a id='baseline'></a>\n",
        "\n",
        "## The Baseline Accuracy\n",
        "\n",
        "---\n",
        "\n",
        "The importance of calculating your baseline accuracy when building and evaluating classifiers cannot be overstated.\n",
        "\n",
        "> **Baseline Accuracy**: The accuracy that can be achieved by a model by simply guessing the majority class for every observation.\n",
        "\n",
        "As human beings, we are inclined to think that \"50-percent accuracy\" is equivalent to predicting by chance. A 50-percent accuracy, however, only equates to predicting by chance in a very specific context; that is, when we have equal proportions of positive and negative (1 and 0) target class labels in our data set, or in the case of multi-class problems, when the majority class makes up 50 percent of the labels.\n",
        "\n",
        "> **`baseline_accuracy = majority_class_N / total_N`**\n",
        "\n",
        "In a binary class problem, however, the reality is that your data set is more likely to be unbalanced, and the more unbalanced it is, the higher the baseline accuracy becomes. This is important to remember because if 99 percent of your observations are of one class, predicting 99 percent of them correctly with a model is performing at chance.\n"
      ]
    },
    {
      "metadata": {
        "id": "mOHOyN6qT_Tc",
        "colab_type": "text"
      },
      "cell_type": "markdown",
      "source": [
        "#### Calculate the baseline accuracy for the spam data set."
      ]
    },
    {
      "metadata": {
        "id": "KVfpuVL6T_Td",
        "colab_type": "code",
        "colab": {},
        "outputId": "28d4da65-af2a-4f34-eeae-2eba2bc11bc2"
      },
      "cell_type": "code",
      "source": [
        "baseline_acc = 1. - spam.is_spam.mean()\n",
        "baseline_acc"
      ],
      "execution_count": 0,
      "outputs": [
        {
          "output_type": "execute_result",
          "data": {
            "text/plain": [
              "0.86593682699210339"
            ]
          },
          "metadata": {
            "tags": []
          },
          "execution_count": 5
        }
      ]
    },
    {
      "metadata": {
        "id": "GudPgZqRT_Tg",
        "colab_type": "text"
      },
      "cell_type": "markdown",
      "source": [
        "<a id='knn'></a>\n",
        "\n",
        "## Set up a KNN Model to Predict Spam\n",
        "\n",
        "---\n",
        "\n",
        "For the sake of speed, we will use just the first 250 columns in fitting and prediction. Even when using a fourth of the predictors, the cross-validation can be noticeably slow."
      ]
    },
    {
      "metadata": {
        "id": "RJD6YG_aT_Th",
        "colab_type": "code",
        "colab": {}
      },
      "cell_type": "code",
      "source": [
        "from sklearn.neighbors import KNeighborsClassifier\n",
        "\n",
        "y = spam.is_spam.values\n",
        "X = spam.iloc[:, 1:251]\n",
        "\n",
        "knn = KNeighborsClassifier()"
      ],
      "execution_count": 0,
      "outputs": []
    },
    {
      "metadata": {
        "id": "WKuXUl6CT_Tk",
        "colab_type": "text"
      },
      "cell_type": "markdown",
      "source": [
        "#### Cross-validate the accuracy of the model.\n",
        "\n",
        "Use 10 folds. How does the mean performance across folds compare to the baseline accuracy?"
      ]
    },
    {
      "metadata": {
        "id": "YFqZvpZvT_Tl",
        "colab_type": "code",
        "colab": {},
        "outputId": "d6c8db25-9005-4e4b-fd4b-186082c9cddb"
      },
      "cell_type": "code",
      "source": [
        "from sklearn.model_selection import cross_val_score\n",
        "\n",
        "accs = cross_val_score(knn, X, y, cv=10)\n",
        "print(accs)\n",
        "print(np.mean(accs))"
      ],
      "execution_count": 0,
      "outputs": [
        {
          "output_type": "stream",
          "text": [
            "[ 0.89784946  0.88351254  0.88888889  0.87634409  0.89605735  0.88330341\n",
            "  0.89228007  0.89208633  0.90827338  0.91366906]\n",
            "0.893226458967\n"
          ],
          "name": "stdout"
        }
      ]
    },
    {
      "metadata": {
        "id": "jwl_pOHwT_To",
        "colab_type": "text"
      },
      "cell_type": "markdown",
      "source": [
        "<a id='labels-vs-probs'></a>\n",
        "\n",
        "## Predicting Labels vs. Predicting Probabilities\n",
        "\n",
        "---\n",
        "\n",
        "Scikit-learn classification models come with two distinct prediction functions:\n",
        "\n",
        "1) `.predict()`: Predicts the labels (classes) of observations. \n",
        "2) `.predict_proba()`: Predicts the *probability of membership to each class*.\n",
        "\n",
        "The `.predict()` function will return the predicted labels for a design matrix as a vector of integer labels. \n",
        "\n",
        "In contrast, the `.predict_proba()` function will return the probabilities as a matrix, where the columns are organized in increasing order of the class labels (e.g., the first column is probabilities for class 0, the second column is probabilities for class 1).\n",
        "\n",
        "**Fit the KNN model and print out the predicted labels and probabilities for a few points.**"
      ]
    },
    {
      "metadata": {
        "id": "CI5hDrWVT_Tp",
        "colab_type": "code",
        "colab": {},
        "outputId": "787619c8-4bf4-4762-c301-44140ff790b0"
      },
      "cell_type": "code",
      "source": [
        "knn.fit(X, y)"
      ],
      "execution_count": 0,
      "outputs": [
        {
          "output_type": "execute_result",
          "data": {
            "text/plain": [
              "KNeighborsClassifier(algorithm='auto', leaf_size=30, metric='minkowski',\n",
              "           metric_params=None, n_jobs=1, n_neighbors=5, p=2,\n",
              "           weights='uniform')"
            ]
          },
          "metadata": {
            "tags": []
          },
          "execution_count": 8
        }
      ]
    },
    {
      "metadata": {
        "id": "NVZ6F491T_Ts",
        "colab_type": "code",
        "colab": {},
        "outputId": "3c55f221-d4a0-468d-a201-55b65933cb59"
      },
      "cell_type": "code",
      "source": [
        "knn.predict(X.iloc[0:10, :])"
      ],
      "execution_count": 0,
      "outputs": [
        {
          "output_type": "execute_result",
          "data": {
            "text/plain": [
              "array([0, 0, 0, 0, 0, 1, 0, 0, 0, 1])"
            ]
          },
          "metadata": {
            "tags": []
          },
          "execution_count": 9
        }
      ]
    },
    {
      "metadata": {
        "id": "HypRpftaT_Tv",
        "colab_type": "code",
        "colab": {},
        "outputId": "c656db92-1e38-4de9-8b10-8d1c3260b105"
      },
      "cell_type": "code",
      "source": [
        "print(y[0:10])"
      ],
      "execution_count": 0,
      "outputs": [
        {
          "output_type": "stream",
          "text": [
            "[0 0 1 0 0 1 0 0 1 1]\n"
          ],
          "name": "stdout"
        }
      ]
    },
    {
      "metadata": {
        "id": "Ykoo95fTT_Ty",
        "colab_type": "code",
        "colab": {},
        "outputId": "a41159b6-46dd-440c-9a6a-e39085b5095f"
      },
      "cell_type": "code",
      "source": [
        "knn.predict_proba(X.iloc[0:10, :])"
      ],
      "execution_count": 0,
      "outputs": [
        {
          "output_type": "execute_result",
          "data": {
            "text/plain": [
              "array([[ 1. ,  0. ],\n",
              "       [ 1. ,  0. ],\n",
              "       [ 1. ,  0. ],\n",
              "       [ 1. ,  0. ],\n",
              "       [ 1. ,  0. ],\n",
              "       [ 0.2,  0.8],\n",
              "       [ 1. ,  0. ],\n",
              "       [ 1. ,  0. ],\n",
              "       [ 0.6,  0.4],\n",
              "       [ 0. ,  1. ]])"
            ]
          },
          "metadata": {
            "tags": []
          },
          "execution_count": 11
        }
      ]
    },
    {
      "metadata": {
        "id": "KTikPcWJT_T1",
        "colab_type": "text"
      },
      "cell_type": "markdown",
      "source": [
        "<a id='confusion-matrix'></a>\n",
        "\n",
        "## The Confusion Matrix\n",
        "\n",
        "---\n",
        "\n",
        "The confusion matrix is a table representing the performance of your model to classify labels correctly.\n",
        "\n",
        "**A confusion matrix for a binary classification task:**\n",
        "\n",
        "|   |Predicted Positive | Predicted Negative |   \n",
        "|---|---|---|\n",
        "|**Actual Positive** | True positive (TP)  | False negative (FN)  |  \n",
        "|**Actual Negative**  | False positive (FP)  | True negative (TN)  | \n",
        "\n",
        "In a binary classifier, the \"true\" class is typically labeled with 1 and the \"false\" class is labeled with 0. \n",
        "\n",
        "> **True Positive**: A positive class observation (1) is correctly classified as positive by the model.\n",
        "\n",
        "> **False Positive**: A negative class observation (0) is incorrectly classified as positive by the model.\n",
        "\n",
        "> **True Negative**: A negative class observation is correctly classified as negative.\n",
        "\n",
        "> **False Negative**: A positive class observation is incorrectly classified as negative.\n",
        "\n",
        "Columns of the confusion matrix sum to the predictions by class. Rows of the matrix sum to the actual values within each class. You may encounter confusion matrices where the actual is contained in the columns and the predicted is contained in the rows; the meaning is the same, but the table will be reoriented.\n",
        "\n",
        "> **Note:** Remembering what the cells in the confusion matrix represent can be a little tricky. The first word (true or false) indicates whether or not the model was correct. The second word (positive or negative) indicates the *model's guess* (not the actual label)."
      ]
    },
    {
      "metadata": {
        "id": "TO_m9emST_T4",
        "colab_type": "text"
      },
      "cell_type": "markdown",
      "source": [
        "#### Calculate the confusion matrix metrics for your model below."
      ]
    },
    {
      "metadata": {
        "id": "Del2WFYgT_T4",
        "colab_type": "code",
        "colab": {}
      },
      "cell_type": "code",
      "source": [
        "predicted = knn.predict(X)"
      ],
      "execution_count": 0,
      "outputs": []
    },
    {
      "metadata": {
        "id": "Eghhf6M6T_T9",
        "colab_type": "code",
        "colab": {},
        "outputId": "37282a27-e0c6-4ae2-f99b-81827a5df5c7"
      },
      "cell_type": "code",
      "source": [
        "tp = np.sum((y == 1) & (predicted == 1))\n",
        "fp = np.sum((y == 0) & (predicted == 1))\n",
        "tn = np.sum((y == 0) & (predicted == 0))\n",
        "fn = np.sum((y == 1) & (predicted == 0))\n",
        "print(tp, fp, tn, fn)"
      ],
      "execution_count": 0,
      "outputs": [
        {
          "output_type": "stream",
          "text": [
            "274 95 4730 473\n"
          ],
          "name": "stdout"
        }
      ]
    },
    {
      "metadata": {
        "id": "OCPXUI47T_UB",
        "colab_type": "text"
      },
      "cell_type": "markdown",
      "source": [
        "#### Verify that this is the same as the numbers you get from scikit-learn's `metrics.confusion_matrix`."
      ]
    },
    {
      "metadata": {
        "id": "mQ27m5olT_UC",
        "colab_type": "code",
        "colab": {}
      },
      "cell_type": "code",
      "source": [
        "from sklearn.metrics import confusion_matrix\n",
        "from plot_confusion_matrix import plot_confusion_matrix # Taken from sklearn documentation "
      ],
      "execution_count": 0,
      "outputs": []
    },
    {
      "metadata": {
        "id": "iWjQzVbST_UI",
        "colab_type": "code",
        "colab": {},
        "outputId": "f77f4c12-1511-463c-a618-58802a5deaf4"
      },
      "cell_type": "code",
      "source": [
        "cm = confusion_matrix(y, predicted)\n",
        "cm"
      ],
      "execution_count": 0,
      "outputs": [
        {
          "output_type": "execute_result",
          "data": {
            "text/plain": [
              "array([[4730,   95],\n",
              "       [ 473,  274]])"
            ]
          },
          "metadata": {
            "tags": []
          },
          "execution_count": 20
        }
      ]
    },
    {
      "metadata": {
        "id": "dJfBeiclT_UP",
        "colab_type": "code",
        "colab": {},
        "outputId": "1bee9f49-3b03-45c9-aa2b-b80a5aae9ff8"
      },
      "cell_type": "code",
      "source": [
        "plot_confusion_matrix(cm, classes=[\"spam\", \"not spam\"], normalize=False)"
      ],
      "execution_count": 0,
      "outputs": [
        {
          "output_type": "stream",
          "text": [
            "Confusion matrix, without normalization\n",
            "[[4730   95]\n",
            " [ 473  274]]\n"
          ],
          "name": "stdout"
        },
        {
          "output_type": "display_data",
          "data": {
            "image/png": "[encoded data removed]",
            "text/plain": [
              "<matplotlib.figure.Figure at 0x11019b908>"
            ]
          },
          "metadata": {
            "tags": [],
            "image/png": {
              "height": 290,
              "width": 335
            }
          }
        }
      ]
    },
    {
      "metadata": {
        "id": "UwDnoDkzT_US",
        "colab_type": "text"
      },
      "cell_type": "markdown",
      "source": [
        "<a id='type1-pvalues'></a>\n",
        "\n",
        "## Review: Type I Error and P Values\n",
        "\n",
        "---\n",
        "\n",
        "In the context of hypothesis testing, false positives and false negatives are referred to as type I and type II errors, respectively. \n",
        "\n",
        "A type I error is the incorrect rejection of the null hypothesis when in fact the null hypothesis is true. This is equivalent to the false positive rate in classification, or the rate of a model labeling an observation as \"true\" when in fact it is \"false.\"\n",
        "\n",
        "Type I errors directly correspond to p values. **The p value is the probability of incorrectly rejecting the null hypothesis.**"
      ]
    },
    {
      "metadata": {
        "id": "SG2IePUuT_UT",
        "colab_type": "text"
      },
      "cell_type": "markdown",
      "source": [
        "<a id='type2-power'></a>\n",
        "\n",
        "## Type II Error and \"Power\"\n",
        "\n",
        "---\n",
        "\n",
        "A type II error, on the other hand, directly corresponds to false negatives. A type II error in the context of hypothesis testing would be to accept the null hypothesis when in fact the alternative hypothesis is true. \n",
        "\n",
        "Whereas type I errors correspond to the concept of _statistical significance_, type II errors correspond to the concept of _statistical power._ The power of a test is:\n",
        "\n",
        "### $$ \\text{power} = 1 - P(\\text{Type II error}) $$\n",
        "\n",
        "More intuitively, **power measures our ability to detect an effect that is present.**\n",
        "\n",
        "We can visualize the ideas of significance, power, and error types in a matrix like our confusion matrix from above:\n",
        "\n",
        "|   |Accept $H_0$ | Reject $H_0$ |   \n",
        "|---|---|---|\n",
        "|**$H_0$ is True** | P(correct) <br> _(1 - alpha)_  | P(type I error) <br> _(alpha, significance)_  |  \n",
        "|**$H_0$ is False**  | P(type II error) <br> _(beta)_  | P(correct) <br> _(1 - beta, power)_ | \n"
      ]
    },
    {
      "metadata": {
        "id": "1V2jyrdUT_UT",
        "colab_type": "text"
      },
      "cell_type": "markdown",
      "source": [
        "<a id='metrics'></a>\n",
        "\n",
        "## The Fundamental Classifier Metrics\n",
        "\n",
        "---\n",
        "\n",
        "![image.png](attachment:image.png)\n",
        "\n",
        "All metrics we use to evaluate classifiers are tied to the content of the confusion matrix. Remember that, for the binary classification case, we have four cells in the confusion matrix:\n",
        "\n",
        "- **`tp`**: true positives (classifier correct; classifier guessed 1).\n",
        "- **`fp`**: false positives (classifier incorrect; classifier guessed 1).\n",
        "- **`tn`**: true negative (classifier correct; classifier guessed 0).\n",
        "- **`fn`**: false negative (classifier incorrect; classifier guessed 0).\n",
        "\n",
        "Below are the fundamental metrics that data scientists use to evaluate the performance of their classifier models.\n",
        "\n",
        "---\n",
        "\n",
        "<a id='accuracy'></a>\n",
        "### Accuracy\n",
        "\n",
        "With the total population as:\n",
        "\n",
        "> **`total_population = tp + fp + tn + fn`**\n",
        "\n",
        "The accuracy can be calculated as:\n",
        "\n",
        "> **`accuracy = (tp + tn) / total_population`**\n",
        "\n",
        "This is just the proportion of correct guesses made by the model, regardless of class. The `.score()` function attached to scikit-learn classification model objects defaults to returning the accuracy of the model's predictions given an `X` and `y`.\n",
        "\n",
        "The inverse of the accuracy is known as the **misclassification rate**, which is calculated as:\n",
        "\n",
        "> **`misclassification_rate = (fp + fn) / total_population`**\n",
        "\n",
        "**Calculate the accuracy using the confusion matrix cells.**\n",
        "- Validate that it is the same as `metrics.accuracy_score`."
      ]
    },
    {
      "metadata": {
        "id": "ijw6dL4XT_UU",
        "colab_type": "code",
        "colab": {},
        "outputId": "c5a51ea4-2065-4532-93b7-d573e90c2bf4"
      },
      "cell_type": "code",
      "source": [
        "from sklearn.metrics import accuracy_score\n",
        "\n",
        "total_population = tp + fp + tn + fn\n",
        "\n",
        "print accuracy_score(y, predicted)\n",
        "print float(tp + tn) / total_population"
      ],
      "execution_count": 0,
      "outputs": [
        {
          "output_type": "stream",
          "text": [
            "0.898061737258\n",
            "0.898061737258\n"
          ],
          "name": "stdout"
        }
      ]
    },
    {
      "metadata": {
        "id": "9y1LOpOjT_UY",
        "colab_type": "text"
      },
      "cell_type": "markdown",
      "source": [
        "---\n",
        "<a id='sensitivity'></a>\n",
        "### Sensitivity/Recall/True Positive Rate\n",
        "\n",
        "The true positive rate is the percent of times that the model correctly predicted 1 when the label was in fact 1. This is alternatively known as the **sensitivity** or **recall**. \n",
        "\n",
        "This is calculated as:\n",
        "\n",
        "> **`recall = tp / (tp + fn)`**\n",
        "\n",
        "**Calculate the recall with the confusion matrix cells.**\n",
        "- Validate that this is the same as `metrics.recall_score`."
      ]
    },
    {
      "metadata": {
        "id": "Cx2hmLBnT_UZ",
        "colab_type": "code",
        "colab": {},
        "outputId": "1591bec0-a5c1-4614-9af2-540a9fae9999"
      },
      "cell_type": "code",
      "source": [
        "from sklearn.metrics import recall_score\n",
        "\n",
        "print recall_score(y, predicted)\n",
        "print float(tp) / (tp + fn)"
      ],
      "execution_count": 0,
      "outputs": [
        {
          "output_type": "stream",
          "text": [
            "0.366800535475\n",
            "0.366800535475\n"
          ],
          "name": "stdout"
        }
      ]
    },
    {
      "metadata": {
        "id": "Jnq9NtT_T_Ub",
        "colab_type": "text"
      },
      "cell_type": "markdown",
      "source": [
        "### Which classification metric tends to lower the recall / sensitivity score the most?\n",
        "\n",
        "Compare these two evaluation scenarios:\n",
        "\n",
        "#### Case 1\n",
        "\n",
        "Model evaluates with %70 accuracy\n",
        "  * Incorrectly predicted %30 of spam emails as non-spam\n",
        "\n",
        "\n",
        "#### Case 2\n",
        "\n",
        "Model evaluates with %5 accuracy\n",
        "  * %95 incorrectly predicted spam emails as non-spam\n",
        "  * Correctly identified %100 of spam emails in cross-validation set"
      ]
    },
    {
      "metadata": {
        "id": "pE-l5-CPT_Uc",
        "colab_type": "text"
      },
      "cell_type": "markdown",
      "source": [
        "---\n",
        "<a id='fpr'></a>\n",
        "### False Positive Rate\n",
        "\n",
        "Alternatively, the false positive rate measures the percent of times the model predicts a 1 when the target class is actually a 0. \n",
        "\n",
        "> **`fpr = fp / (tn + fp)`**\n",
        "\n",
        "**Calculate the FPR using the confusion matrix cells.**"
      ]
    },
    {
      "metadata": {
        "id": "Qz7puSb8T_Uc",
        "colab_type": "code",
        "colab": {},
        "outputId": "966b9d13-daa1-4880-91cd-f1b31b683b9b"
      },
      "cell_type": "code",
      "source": [
        "print float(fp) / (tn + fp)"
      ],
      "execution_count": 0,
      "outputs": [
        {
          "output_type": "stream",
          "text": [
            "0.019689119171\n"
          ],
          "name": "stdout"
        }
      ]
    },
    {
      "metadata": {
        "id": "UUVDzl5HT_Ue",
        "colab_type": "text"
      },
      "cell_type": "markdown",
      "source": [
        "---\n",
        "<a id='specificity'></a>\n",
        "### Specificity/True Negative Rate\n",
        "\n",
        "The true negative rate measures the percent of times the classifier predicted the class was 0 out the number of actual times the class was 0. It is the sister metric to sensitivity, which measures the same thing but for positives.\n",
        "\n",
        "> **`specificity = tn / (tn + fp)`**\n",
        "\n",
        "**Calculate specificity using the confusion matrix cells.**"
      ]
    },
    {
      "metadata": {
        "id": "vXxEfroGT_Uf",
        "colab_type": "code",
        "colab": {},
        "outputId": "64541274-306a-46ce-bcc1-f5ba53ab0cbf"
      },
      "cell_type": "code",
      "source": [
        "specificity = float(tn) / (tn + fp)\n",
        "print specificity"
      ],
      "execution_count": 0,
      "outputs": [
        {
          "output_type": "stream",
          "text": [
            "0.980310880829\n"
          ],
          "name": "stdout"
        }
      ]
    },
    {
      "metadata": {
        "id": "Jad9ZiqDT_Ui",
        "colab_type": "text"
      },
      "cell_type": "markdown",
      "source": [
        "---\n",
        "<a id='precision'></a>\n",
        "### Precision/Positive Predictive Value\n",
        "\n",
        "Precision measures the percent of times the classifier was correct when it was predicting the true (1) class.\n",
        "\n",
        "> **`precision = tp / (tp + fp)`**\n",
        "\n",
        "The idea of the classifier being _precise_ is subtly different than it being _accurate_. Precision is a measure of correctness only for its positive class predictions, whereas accuracy is a measure of correctness for all predictions.\n",
        "\n",
        "**Calculate precision using the confusion matrix cells.**\n",
        "- Validate that this is the same as `metrics.precision_score`."
      ]
    },
    {
      "metadata": {
        "id": "QhlUyokPT_Uj",
        "colab_type": "code",
        "colab": {},
        "outputId": "d5eb0537-b4c1-4b53-ef2e-1c0a65ce9471"
      },
      "cell_type": "code",
      "source": [
        "from sklearn.metrics import precision_score\n",
        "\n",
        "print precision_score(y, predicted)\n",
        "print float(tp) / (tp + fp)"
      ],
      "execution_count": 0,
      "outputs": [
        {
          "output_type": "stream",
          "text": [
            "0.742547425474\n",
            "0.742547425474\n"
          ],
          "name": "stdout"
        }
      ]
    },
    {
      "metadata": {
        "id": "nPV7En6HT_Um",
        "colab_type": "text"
      },
      "cell_type": "markdown",
      "source": [
        "<a id='f1-score'></a>\n",
        "\n",
        "## F1 Score and the `Classification_Report`\n",
        "\n",
        "---\n",
        "\n",
        "Scikit-learn's `metrics.classification_report` helps diagnose the effectiveness of your classifier. The report focuses on the precision, recall, and a metric known as the F1 score.\n",
        "\n",
        "The F1 score is the [harmonic mean](https://en.wikipedia.org/wiki/Harmonic_mean) of the precision and recall metrics. Blending the two is useful; precision measures how effectively the classifier performs when it is predicting a 1, whereas recall measures how many of the total 1 classes out of all the 1-labeled observations were predicted correctly. \n",
        "\n",
        "### $$ F_1 = 2 \\cdot \\frac{1}{\\tfrac{1}{\\mathrm{recall}} + \\tfrac{1}{\\mathrm{precision}}} = 2 \\cdot \\frac{\\mathrm{precision} \\cdot \\mathrm{recall}}{\\mathrm{precision} + \\mathrm{recall}}$$\n",
        "\n",
        "By combining the two, we have a measure of the classifier's ability to find the positive-labeled observations, as well as how permissive it is of identification errors on those labels.\n",
        "\n",
        "**A brief overview:**\n",
        "- `Precision = True Positives / (True Positives + False Positives)`\n",
        "    - A precision score of 1 indicates that the classifier never mistakenly added observations from another class. A precision score of 0 would mean that the classifier misclassified every instance of the current class.\n",
        "- `Recall = True Positives / (True Positives + False Negatives)`\n",
        "    - A recall score of 1 indicates that the classifier correctly predicted (found) all observations of the current class (by implication, no false negatives or misclassifications of the current class). A recall score of 0 alternatively means that the classifier missed all observations of the current class.\n",
        "- `F1 Score = 2 * (Precision * Recall) / (Precision + Recall)`\n",
        "    - Like the precision and recall scores, the F1 score's best value is 1 and worst value is 0. It is a useful metric for taking into account both measures at once.\n",
        "- `Support` is simply the number of observations of the labeled class.\n",
        "\n",
        "You can print out the report of these three metrics on both of the classes (or more if you have a multi-class problem) using the `classification_report` function."
      ]
    },
    {
      "metadata": {
        "collapsed": true,
        "id": "8-a2hUp3T_Un",
        "colab_type": "code",
        "colab": {}
      },
      "cell_type": "code",
      "source": [
        "from sklearn.metrics import classification_report"
      ],
      "execution_count": 0,
      "outputs": []
    },
    {
      "metadata": {
        "id": "WMuuWFJ2T_U0",
        "colab_type": "code",
        "colab": {},
        "outputId": "16c1df0f-78f8-46d1-fe00-4dc7afccf46a"
      },
      "cell_type": "code",
      "source": [
        "print classification_report(y, predicted)"
      ],
      "execution_count": 0,
      "outputs": [
        {
          "output_type": "stream",
          "text": [
            "             precision    recall  f1-score   support\n",
            "\n",
            "          0       0.91      0.98      0.94      4825\n",
            "          1       0.74      0.37      0.49       747\n",
            "\n",
            "avg / total       0.89      0.90      0.88      5572\n",
            "\n"
          ],
          "name": "stdout"
        }
      ]
    },
    {
      "metadata": {
        "id": "oXDsoM0BT_U2",
        "colab_type": "text"
      },
      "cell_type": "markdown",
      "source": [
        "<a id='threshold'></a>\n",
        "\n",
        "## Changing the Threshold for Prediction\n",
        "\n",
        "---\n",
        "\n",
        "The prediction of the classifier defaults to guessing the class that has the highest predicted probability. This necessarily leads to the highest possible accuracy (**only a guarantee for the training data**). \n",
        "\n",
        "However, it could be the case that maximizing the accuracy is not, in fact, our ultimate goal. Consider the following scenario:\n",
        "\n",
        "> **Cancer Detection:** You have developed a classifier to detect, based on some medical measurements, whether or not a person has a cancerous tumor. Your classifier gets a 96-percent accuracy compared to a 60-percent baseline accuracy.\n",
        "\n",
        "Your classifier is performing well, but what might be wrong with only maximizing the accuracy in this case? Think back to the confusion matrix and your goal (to treat cancer patients before it's too late)."
      ]
    },
    {
      "metadata": {
        "id": "IeeeuQCcT_U2",
        "colab_type": "text"
      },
      "cell_type": "markdown",
      "source": [
        "--- \n",
        "<a id='uci-data'></a>\n",
        "### Load the UCI Breast Cancer Data\n",
        "\n",
        "Below we will load the medical data on breast cancer detection."
      ]
    },
    {
      "metadata": {
        "id": "Wm91aHHBT_U3",
        "colab_type": "code",
        "colab": {}
      },
      "cell_type": "code",
      "source": [
        "column_names = ['id',\n",
        "                'clump_thickness',\n",
        "                'cell_size_uniformity',\n",
        "                'cell_shape_uniformity',\n",
        "                'marginal_adhesion',\n",
        "                'single_epithelial_size',\n",
        "                'bare_nuclei',\n",
        "                'bland_chromatin',\n",
        "                'normal_nucleoli',\n",
        "                'mitoses',\n",
        "                'class']\n",
        "\n",
        "bcw = pd.read_csv('https://archive.ics.uci.edu/ml/machine-learning-databases/breast-cancer-wisconsin/breast-cancer-wisconsin.data', \n",
        "                  names=column_names)\n",
        "\n",
        "bcw['bare_nuclei'] = bcw.bare_nuclei.map(lambda x: int(x) if not x == '?' else np.nan)\n",
        "bcw.dropna(inplace=True)\n",
        "\n",
        "y = bcw['class'].map(lambda x: 1 if x == 4 else 0)\n",
        "X = bcw.iloc[:, 1:-1]"
      ],
      "execution_count": 0,
      "outputs": []
    },
    {
      "metadata": {
        "id": "3Z27L5DjT_U6",
        "colab_type": "text"
      },
      "cell_type": "markdown",
      "source": [
        "**Split the data into 66 percent training and 33 percent testing. Fit a KNN classifier with `n_neighbors=25` on the training data.**"
      ]
    },
    {
      "metadata": {
        "id": "hUpkrd4_T_U7",
        "colab_type": "code",
        "colab": {},
        "outputId": "6ffa08b6-ef04-4b2f-f3f8-3b746afdbd7e"
      },
      "cell_type": "code",
      "source": [
        "from sklearn.model_selection import train_test_split\n",
        "\n",
        "X_train, X_test, y_train, y_test = train_test_split(X, y, test_size=0.33)\n",
        "knn = KNeighborsClassifier(n_neighbors=25)\n",
        "knn.fit(X_train, y_train)"
      ],
      "execution_count": 0,
      "outputs": [
        {
          "output_type": "execute_result",
          "data": {
            "text/plain": [
              "KNeighborsClassifier(algorithm='auto', leaf_size=30, metric='minkowski',\n",
              "           metric_params=None, n_jobs=1, n_neighbors=25, p=2,\n",
              "           weights='uniform')"
            ]
          },
          "metadata": {
            "tags": []
          },
          "execution_count": 21
        }
      ]
    },
    {
      "metadata": {
        "id": "JhwI_t5MT_U-",
        "colab_type": "text"
      },
      "cell_type": "markdown",
      "source": [
        "**Calculate the accuracy on the test set and compare it to the baseline.**"
      ]
    },
    {
      "metadata": {
        "id": "BytjNmFOT_VA",
        "colab_type": "code",
        "colab": {},
        "outputId": "f2c12a4d-97e1-4c63-859a-42423ff1a1c0"
      },
      "cell_type": "code",
      "source": [
        "print(knn.score(X_test, y_test), 1. - np.mean(y_test))"
      ],
      "execution_count": 0,
      "outputs": [
        {
          "output_type": "stream",
          "text": [
            "0.96017699115 0.601769911504\n"
          ],
          "name": "stdout"
        }
      ]
    },
    {
      "metadata": {
        "id": "S4zcxgjkT_VF",
        "colab_type": "text"
      },
      "cell_type": "markdown",
      "source": [
        "**Calculate the predicted labels and predicted probabilities on the test set.**"
      ]
    },
    {
      "metadata": {
        "id": "QqlOK62nT_VG",
        "colab_type": "code",
        "colab": {}
      },
      "cell_type": "code",
      "source": [
        "# Predict test class:\n",
        "y_pred = knn.predict(X_test)\n",
        "\n",
        "# Predict test probability:\n",
        "y_pp = knn.predict_proba(X_test)"
      ],
      "execution_count": 0,
      "outputs": []
    },
    {
      "metadata": {
        "id": "gT_vtMD5T_VJ",
        "colab_type": "text"
      },
      "cell_type": "markdown",
      "source": [
        "**Create the confusion matrix for your classifier's performance on the test set.**"
      ]
    },
    {
      "metadata": {
        "id": "g0g1QvDbT_VL",
        "colab_type": "code",
        "colab": {},
        "outputId": "2be6c083-0762-4f93-aef7-853b2b858f5d"
      },
      "cell_type": "code",
      "source": [
        "# Let's say again that we are predicting cancer based on some kind of detection measure.\n",
        "conmat = np.array(confusion_matrix(y_test, y_pred, labels=[1,0]))\n",
        "\n",
        "confusion = pd.DataFrame(conmat, index=['is_cancer', 'is_healthy'],\n",
        "                         columns=['predicted_cancer','predicted_healthy'])\n",
        "confusion"
      ],
      "execution_count": 0,
      "outputs": [
        {
          "output_type": "execute_result",
          "data": {
            "text/html": [
              "<div>\n",
              "<table border=\"1\" class=\"dataframe\">\n",
              "  <thead>\n",
              "    <tr style=\"text-align: right;\">\n",
              "      <th></th>\n",
              "      <th>predicted_cancer</th>\n",
              "      <th>predicted_healthy</th>\n",
              "    </tr>\n",
              "  </thead>\n",
              "  <tbody>\n",
              "    <tr>\n",
              "      <th>is_cancer</th>\n",
              "      <td>82</td>\n",
              "      <td>8</td>\n",
              "    </tr>\n",
              "    <tr>\n",
              "      <th>is_healthy</th>\n",
              "      <td>1</td>\n",
              "      <td>135</td>\n",
              "    </tr>\n",
              "  </tbody>\n",
              "</table>\n",
              "</div>"
            ],
            "text/plain": [
              "            predicted_cancer  predicted_healthy\n",
              "is_cancer                 82                  8\n",
              "is_healthy                 1                135"
            ]
          },
          "metadata": {
            "tags": []
          },
          "execution_count": 25
        }
      ]
    },
    {
      "metadata": {
        "id": "s-Yi06wVT_VQ",
        "colab_type": "text"
      },
      "cell_type": "markdown",
      "source": [
        "<a id='change-threshold'></a>\n",
        "\n",
        "### Lower the Threshold for Predicting Cancer\n",
        "\n",
        "Right now the classifier is choosing to label cancer versus healthy based on the 0.5 predicted probability threshold. \n",
        "\n",
        "Say our goal was to have 0 false negatives; in other words, in no case do we want to predict the person is healthy when in fact they have cancer!\n",
        "\n",
        "1) Create a DataFrame of the predicted probabilities (class 0 and class 1 probabilities).\n",
        "2) Create a new column with predicted labels where the threshold for labeling cancer/1 is 10 percent rather than 50 percent.\n",
        "    - In other words, the predicted probability of class 1 only needs to be greater than 0.10 for the label to be 1.\n",
        "3) Recreate the confusion matrix with the predictions using the new threshold."
      ]
    },
    {
      "metadata": {
        "id": "LCIwU4gJT_VR",
        "colab_type": "code",
        "colab": {},
        "outputId": "6c2db3b4-c13d-4233-c042-0bc230e6d5cc"
      },
      "cell_type": "code",
      "source": [
        "# Get the predicted probability vector and explicitly name the columns.\n",
        "Y_pp = pd.DataFrame(knn.predict_proba(X_test), columns=['class_0_pp','class_1_pp'])\n",
        "Y_pp.head()"
      ],
      "execution_count": 0,
      "outputs": [
        {
          "output_type": "execute_result",
          "data": {
            "text/html": [
              "<div>\n",
              "<table border=\"1\" class=\"dataframe\">\n",
              "  <thead>\n",
              "    <tr style=\"text-align: right;\">\n",
              "      <th></th>\n",
              "      <th>class_0_pp</th>\n",
              "      <th>class_1_pp</th>\n",
              "    </tr>\n",
              "  </thead>\n",
              "  <tbody>\n",
              "    <tr>\n",
              "      <th>0</th>\n",
              "      <td>0.00</td>\n",
              "      <td>1.00</td>\n",
              "    </tr>\n",
              "    <tr>\n",
              "      <th>1</th>\n",
              "      <td>1.00</td>\n",
              "      <td>0.00</td>\n",
              "    </tr>\n",
              "    <tr>\n",
              "      <th>2</th>\n",
              "      <td>0.20</td>\n",
              "      <td>0.80</td>\n",
              "    </tr>\n",
              "    <tr>\n",
              "      <th>3</th>\n",
              "      <td>0.88</td>\n",
              "      <td>0.12</td>\n",
              "    </tr>\n",
              "    <tr>\n",
              "      <th>4</th>\n",
              "      <td>1.00</td>\n",
              "      <td>0.00</td>\n",
              "    </tr>\n",
              "  </tbody>\n",
              "</table>\n",
              "</div>"
            ],
            "text/plain": [
              "   class_0_pp  class_1_pp\n",
              "0        0.00        1.00\n",
              "1        1.00        0.00\n",
              "2        0.20        0.80\n",
              "3        0.88        0.12\n",
              "4        1.00        0.00"
            ]
          },
          "metadata": {
            "tags": []
          },
          "execution_count": 26
        }
      ]
    },
    {
      "metadata": {
        "id": "tNIDqOgMT_VY",
        "colab_type": "code",
        "colab": {},
        "outputId": "d7b3b4ba-71f9-479e-8af0-9e2280ba7c33"
      },
      "cell_type": "code",
      "source": [
        "# In order to do this, we can lower the threshold for predicting class 1.\n",
        "# This will reduce our false negative rate to 0, but at the expense of a higher false positive rate.\n",
        "Y_pp['pred_class_thresh10'] = [1 if x >= 0.10 else 0 for x in Y_pp.class_1_pp.values]\n",
        "Y_pp.head(10)"
      ],
      "execution_count": 0,
      "outputs": [
        {
          "output_type": "execute_result",
          "data": {
            "text/html": [
              "<div>\n",
              "<table border=\"1\" class=\"dataframe\">\n",
              "  <thead>\n",
              "    <tr style=\"text-align: right;\">\n",
              "      <th></th>\n",
              "      <th>class_0_pp</th>\n",
              "      <th>class_1_pp</th>\n",
              "      <th>pred_class_thresh10</th>\n",
              "    </tr>\n",
              "  </thead>\n",
              "  <tbody>\n",
              "    <tr>\n",
              "      <th>0</th>\n",
              "      <td>0.00</td>\n",
              "      <td>1.00</td>\n",
              "      <td>1</td>\n",
              "    </tr>\n",
              "    <tr>\n",
              "      <th>1</th>\n",
              "      <td>1.00</td>\n",
              "      <td>0.00</td>\n",
              "      <td>0</td>\n",
              "    </tr>\n",
              "    <tr>\n",
              "      <th>2</th>\n",
              "      <td>0.20</td>\n",
              "      <td>0.80</td>\n",
              "      <td>1</td>\n",
              "    </tr>\n",
              "    <tr>\n",
              "      <th>3</th>\n",
              "      <td>0.88</td>\n",
              "      <td>0.12</td>\n",
              "      <td>1</td>\n",
              "    </tr>\n",
              "    <tr>\n",
              "      <th>4</th>\n",
              "      <td>1.00</td>\n",
              "      <td>0.00</td>\n",
              "      <td>0</td>\n",
              "    </tr>\n",
              "    <tr>\n",
              "      <th>5</th>\n",
              "      <td>1.00</td>\n",
              "      <td>0.00</td>\n",
              "      <td>0</td>\n",
              "    </tr>\n",
              "    <tr>\n",
              "      <th>6</th>\n",
              "      <td>1.00</td>\n",
              "      <td>0.00</td>\n",
              "      <td>0</td>\n",
              "    </tr>\n",
              "    <tr>\n",
              "      <th>7</th>\n",
              "      <td>0.04</td>\n",
              "      <td>0.96</td>\n",
              "      <td>1</td>\n",
              "    </tr>\n",
              "    <tr>\n",
              "      <th>8</th>\n",
              "      <td>1.00</td>\n",
              "      <td>0.00</td>\n",
              "      <td>0</td>\n",
              "    </tr>\n",
              "    <tr>\n",
              "      <th>9</th>\n",
              "      <td>1.00</td>\n",
              "      <td>0.00</td>\n",
              "      <td>0</td>\n",
              "    </tr>\n",
              "  </tbody>\n",
              "</table>\n",
              "</div>"
            ],
            "text/plain": [
              "   class_0_pp  class_1_pp  pred_class_thresh10\n",
              "0        0.00        1.00                    1\n",
              "1        1.00        0.00                    0\n",
              "2        0.20        0.80                    1\n",
              "3        0.88        0.12                    1\n",
              "4        1.00        0.00                    0\n",
              "5        1.00        0.00                    0\n",
              "6        1.00        0.00                    0\n",
              "7        0.04        0.96                    1\n",
              "8        1.00        0.00                    0\n",
              "9        1.00        0.00                    0"
            ]
          },
          "metadata": {
            "tags": []
          },
          "execution_count": 27
        }
      ]
    },
    {
      "metadata": {
        "id": "VRivU3T1T_Vg",
        "colab_type": "code",
        "colab": {},
        "outputId": "812b7825-68b9-4d3c-cbf1-f238a3e07117"
      },
      "cell_type": "code",
      "source": [
        "conmat = np.array(confusion_matrix(y_test, Y_pp.pred_class_thresh10.values, labels=[1,0]))\n",
        "\n",
        "confusion = pd.DataFrame(conmat, index=['is_cancer', 'is_healthy'],\n",
        "                         columns=['predicted_cancer','predicted_healthy'])\n",
        "confusion"
      ],
      "execution_count": 0,
      "outputs": [
        {
          "output_type": "execute_result",
          "data": {
            "text/html": [
              "<div>\n",
              "<table border=\"1\" class=\"dataframe\">\n",
              "  <thead>\n",
              "    <tr style=\"text-align: right;\">\n",
              "      <th></th>\n",
              "      <th>predicted_cancer</th>\n",
              "      <th>predicted_healthy</th>\n",
              "    </tr>\n",
              "  </thead>\n",
              "  <tbody>\n",
              "    <tr>\n",
              "      <th>is_cancer</th>\n",
              "      <td>89</td>\n",
              "      <td>1</td>\n",
              "    </tr>\n",
              "    <tr>\n",
              "      <th>is_healthy</th>\n",
              "      <td>4</td>\n",
              "      <td>132</td>\n",
              "    </tr>\n",
              "  </tbody>\n",
              "</table>\n",
              "</div>"
            ],
            "text/plain": [
              "            predicted_cancer  predicted_healthy\n",
              "is_cancer                 89                  1\n",
              "is_healthy                 4                132"
            ]
          },
          "metadata": {
            "tags": []
          },
          "execution_count": 28
        }
      ]
    },
    {
      "metadata": {
        "id": "vQfVEaOaT_Vo",
        "colab_type": "text"
      },
      "cell_type": "markdown",
      "source": [
        "<a id='roc-curve'></a>\n",
        "\n",
        "## The Receiver Operating Characteristic (ROC) Curve\n",
        "\n",
        "---\n",
        "\n",
        "The ROC curve is a popular visual of the performance of a classifier. It has a few attractive properties:\n",
        "- It compares the true positive rate to the false positive rate **as the threshold for predicting 1 changes**.\n",
        "- When the area under the curve (AUC) is 0.50; this is equivalent to the baseline (chance) prediction.\n",
        "- When the area under the curve is 1.00; this is equivalent to perfect prediction.\n",
        "\n",
        "The area under the ROC curve is inherently related to the accuracy, but the AUC-ROC is preferred because it is automatically adjusted to the baseline and gives a robust picture of how the classifier performs at different threshold choices. \n",
        "\n",
        "**Note:**\n",
        "- As the class assignment threshold increases for the positive class (has cancer), the false positive rate and true positive rate necessarily increase.\n",
        "- For a classifier performing at chance, this is the diagonal dotted line, meaning an equal chance of false positives and true positives.\n",
        "- The greater the area under the curve, the higher the ratio of true positives to false positives as the threshold becomes more lenient.\n",
        "- The greater the area under the curve, the higher the quality of the classification model. \n",
        "- Most classification problems will never get close to a full 1.0 area under the curve. The Wisconsin breast cancer data is unique in that the signal is extremely strong. If you see this, it usually indicates that something is wrong with your procedure (or, if you are predicting on the training set, that your model is overfitting).\n",
        "\n",
        "**Below is code to plot the ROC curve for our cancer data.**"
      ]
    },
    {
      "metadata": {
        "id": "xs4-FVDfT_Vp",
        "colab_type": "code",
        "colab": {}
      },
      "cell_type": "code",
      "source": [
        "from sklearn.metrics import roc_curve, auc"
      ],
      "execution_count": 0,
      "outputs": []
    },
    {
      "metadata": {
        "id": "j4fuLHCUT_Vt",
        "colab_type": "code",
        "colab": {},
        "outputId": "2c46075d-14bd-4416-a64e-cf7868ca752e"
      },
      "cell_type": "code",
      "source": [
        "# For class 1, find the area under the curve.\n",
        "fpr, tpr, _ = roc_curve(y_test, Y_pp.class_1_pp)\n",
        "roc_auc = auc(fpr, tpr)\n",
        "\n",
        "# Plot of a ROC curve for class 1 (has_cancer).\n",
        "plt.figure(figsize=[8,8])\n",
        "plt.plot(fpr, tpr, label='ROC curve (area = %0.2f)' % roc_auc, linewidth=4)\n",
        "plt.plot([0, 1], [0, 1], 'k--', linewidth=4)\n",
        "plt.xlim([-0.05, 1.0])\n",
        "plt.ylim([-0.05, 1.05])\n",
        "plt.xlabel('False Positive Rate', fontsize=18)\n",
        "plt.ylabel('True Positive Rate', fontsize=18)\n",
        "plt.title('Receiver operating characteristic for cancer detection', fontsize=18)\n",
        "plt.legend(loc=\"lower right\")\n",
        "plt.show()"
      ],
      "execution_count": 0,
      "outputs": [
        {
          "output_type": "display_data",
          "data": {
            "image/png": "[encoded data removed]",
            "text/plain": [
              "<matplotlib.figure.Figure at 0x11b69d320>"
            ]
          },
          "metadata": {
            "tags": [],
            "image/png": {
              "height": 536,
              "width": 563
            }
          }
        }
      ]
    },
    {
      "metadata": {
        "id": "oTKVtuDST_Vy",
        "colab_type": "text"
      },
      "cell_type": "markdown",
      "source": [
        "---\n",
        "\n",
        "## Reference Table of Common Classification Metric Terms and Definitions\n",
        "\n",
        "<br><br>\n",
        "\n",
        "|  TERM | DESCRIPTION  |\n",
        "|---|---|\n",
        "|**TRUE POSITIVES** | The number of \"true\" classes correctly predicted to be true by the model. <br><br> `TP = Sum of observations predicted to be 1 that are actually 1.`<br><br> The true class in a binary classifier is labeled with 1.|\n",
        "|**TRUE NEGATIVES** | The number of \"false\" classes correctly predicted to be false by the model. <br><br> `TP = Sum of observations predicted to be 0 that are actually 0.`<br><br> The false class in a binary classifier is labeled with 0.|\n",
        "|**FALSE POSITIVES** | The number of \"false\" classes incorrectly predicted to be true by the model. This is the measure of **type I error**.<br><br> `TP = Sum of observations predicted to be 1 that are actually 0.`<br><br> Remember that \"true\" and \"false\" refer to the veracity of your guess, and \"positive\" and \"negative\" component refer to the guessed label.|\n",
        "|**FALSE NEGATIVES** | The number of \"true\" classes incorrectly predicted to be false by the model. This is the measure of **type II error.**<br><br> `TP = Sum of observations predicted to be 0 that are actually 1.`<br><br>|\n",
        "|**TOTAL POPULATION** | In the context of the confusion matrix, the sum of the cells. <br><br> `total population = tp + tn + fp + fn`<br><br>|\n",
        "|**SUPPORT** | The marginal sum of rows in the confusion matrix or, in other words, the total number of observations belonging to a class, regardless of prediction. <br><br>|\n",
        "|**ACCURACY** | The number of correct predictions by the model out of the total number of observations. <br><br> `accuracy = (tp + tn) / total_population`<br><br>|\n",
        "|**PRECISION** | The ability of the classifier to avoid labeling a class as a member of another class. <br><br> `Precision = True Positives / (True Positives + False Positives)`<br><br>_A precision score of 1 indicates that the classifier never mistakenly classified the current class as another class. A precision score of 0 would mean that the classifier misclassified every instance of the current class. |\n",
        "|**RECALL/SENSITIVITY**    | The ability of the classifier to correctly identify the current class. <br><br>`Recall = True Positives / (True Positives + False Negatives)`<br><br> A recall of 1 indicates that the classifier correctly predicted all observations of the class. A recall of 0 means the classifier predicted all observations of the current class incorrectly.|\n",
        "|**SPECIFICITY** | Percent of times the classifier predicted 0 out of all the times the class was actually 0.<br><br> `specificity = tn / (tn + fp)`<br><br>|\n",
        "|**FALSE POSITIVE RATE** | Percent of times the model predicts 1 when the class is 0.<br><br> `fpr = fp / (tn + fp)`<br><br>|\n",
        "|**F1-SCORE** | The harmonic mean of the precision and recall. The harmonic mean is used here rather than the more conventional arithmetic mean because the harmonic mean is more appropriate for averaging rates. <br><br>`F1-Score = 2 * (Precision * Recall) / (Precision + Recall)` <br><br>_ Like the precision and recall scores, the F1 score's best value is 1 and worst value is 0. It is a useful metric for taking into account both measures at once._ |"
      ]
    },
    {
      "metadata": {
        "id": "RT7dQ6YYT_Vz",
        "colab_type": "text"
      },
      "cell_type": "markdown",
      "source": [
        "<a id='resources'></a>\n",
        "\n",
        "## Additional Resources\n",
        "\n",
        "---\n",
        "\n",
        "- A Simple Guide to [Confusion Matrix Terminology](http://www.dataschool.io/simple-guide-to-confusion-matrix-terminology/)\n",
        "- A Deeper [Introduction to ROC](http://people.inf.elte.hu/kiss/13dwhdm/roc.pdf)\n",
        "- A [University Resource](http://ebp.uga.edu/courses/Chapter%204%20-%20Diagnosis%20I/8%20-%20ROC%20curves.html) on Receiver Operation Characteristic Curves\n",
        "- An Interactive Tool for [Playing With ROC Curves](http://www.navan.name/roc/)\n",
        "- Data School's Video and Transcript on [ROC/AUC](http://www.dataschool.io/roc-curves-and-auc-explained/)\n",
        "-  Rahul Patwari's [Video](https://www.youtube.com/watch?v=21Igj5Pr6u4) on ROC Curves"
      ]
    }
  ]
}